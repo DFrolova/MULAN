{
 "cells": [
  {
   "cell_type": "markdown",
   "id": "dd61e670",
   "metadata": {},
   "source": [
    "# MULAN inference"
   ]
  },
  {
   "cell_type": "code",
   "execution_count": 1,
   "id": "d08df5c0",
   "metadata": {},
   "outputs": [],
   "source": [
    "import os\n",
    "os.environ[\"HF_HOME\"] = '/workspace/data/transformers_cache'\n",
    "os.environ[\"CUBLAS_WORKSPACE_CONFIG\"] = \":4096:8\"\n",
    "os.environ['CUDA_VISIBLE_DEVICES'] = ''\n",
    "import warnings\n",
    "warnings.filterwarnings('ignore')\n",
    "\n",
    "import numpy as np\n",
    "import torch\n",
    "from torch.utils.data import DataLoader\n",
    "\n",
    "from mulan.dataset import ProteinDataset, data_collate_fn_dynamic\n",
    "from mulan.model import StructEsmForMaskedLM\n",
    "from mulan.model_utils import auto_detect_base_tokenizer"
   ]
  },
  {
   "cell_type": "markdown",
   "id": "e676ade2",
   "metadata": {},
   "source": [
    "## Preparation\n",
    "To install repo run the command inside the folder MULAN:\n",
    "```bash\n",
    "git clone https://github.com/DFrolova/MULAN.git\n",
    "cd MULAN\n",
    "pip install -e .\n",
    "```\n",
    "\n",
    "In case of experimental structures, you firstly need to preprocess them with `pdbfixer` to restore missing atoms, remove water from the PDB file, etc.\n",
    "Firstly, you need to install `pdbfixer`. It should be installed in a separate environment for structure processing:\n",
    "```bash\n",
    "conda create -n pdb_processing python=3.7\n",
    "conda activate pdb_processing\n",
    "conda install pdbfixer=1.8.1 -c conda-forge\n",
    "conda install biopython=1.78\n",
    "```\n",
    "Then, you run the script, providing correct paths for `initial_structure_path` and `preprocessed_structure_path`.\n",
    "```bash\n",
    "python scripts/preprocess_experimental_structures.py\n",
    "```\n",
    "\n",
    "Also, you should download and put the foldseek binary file into the `mulan/bin` folder following the instructions provided in the [SaProt repo](https://github.com/westlake-repl/SaProt?tab=readme-ov-file#convert-protein-structure-into-structure-aware-sequence). \n",
    "Currently, they provide it [here](https://drive.google.com/file/d/1B_9t3n_nlj8Y3Kpc_mMjtMdY0OPYa7Re/view).\n",
    "Do not forget to add the rights for execution for foldseek (`chmod +x bin/foldseek`).\n",
    "If you do not need foldseek sequences (you use only MULAN based on ESM-2), you can pass `extract_foldseek_in_tokenizer=False` when initializing the `ProteinDataset`.\n",
    "Thus, you do not need to download and use the foldseek binary file."
   ]
  },
  {
   "cell_type": "markdown",
   "id": "dba6dab4",
   "metadata": {},
   "source": [
    "### Define data paths and properties\n",
    "\n",
    "1) **Collect protein structures.**\n",
    "Put the protein structures (either `.pdb` or `.cif` files) you need to encode into the folder. \n",
    "The whole path to this folder is `protein_data_path`.\n",
    "If you need to extract certain chains from the structure (for experimental structures), you need to specify the chain name in the name of the file in the format: `{protein_id}_{chain}.pdb`.\n",
    "Othervise, the first chain would be extracted."
   ]
  },
  {
   "cell_type": "code",
   "execution_count": 2,
   "id": "49c7e5da",
   "metadata": {},
   "outputs": [],
   "source": [
    "# Data \n",
    "protein_data_path = './example_structures' # specify the path to the folder with pdb files you need to pass to the model\n",
    "saved_dataset_path = './example_dataset' # specify the path where to save the preprocessed dataset\n",
    "is_experimental_structure = False # flag for either AlphaFold structures or experimental ones\n",
    "\n",
    "# Model\n",
    "use_foldseek_sequences = False # True if use SaProt initialization for MULAN. Else False"
   ]
  },
  {
   "cell_type": "markdown",
   "id": "aa18426c",
   "metadata": {},
   "source": [
    "### Initialize dataset and dataloader\n",
    "\n",
    "2) **Load the dataset and preprocess the data.**\n",
    "By default, the dataset would not aggeragate proteins into batches (1 portein = 1 batch). \n",
    "However, you can pass `use_sorted_batching=True` to the dataset (and still pass `batch_size=1` to the dataloader!) to aggregate proteins with similar lengths into the batch (maximim `batch_limit` tokens per batch) for a faster inference. \n",
    "Further steps of code suppose that each batch contains one protein.\n",
    "\n",
    "Note that initializing dataset requires firstly to preprocess and tokenize all provided protein structures.\n",
    "The results will be stored in the `saved_dataset_path` folder.\n",
    "Further, if you reuse this dataset, the preprocessing step is not required if you store the data inside the `saved_dataset_path`.\n",
    "\n",
    "During preprocessing, foldseek sequences are also extracted. \n",
    "This is done because SaProt-initialized MULAN uses Foldseek.\n",
    "If you use only ESM-2, you can pass argument `extract_foldseek_in_tokenizer=False` into the `ProteinDataset` class."
   ]
  },
  {
   "cell_type": "code",
   "execution_count": 3,
   "id": "2327457f",
   "metadata": {
    "scrolled": true
   },
   "outputs": [
    {
     "name": "stdout",
     "output_type": "stream",
     "text": [
      "INIT ANGLES tensor([[ 33.0900,  33.2570,  -8.9830,  ...,   2.9576,   4.0000,   4.0000],\n",
      "        [ 28.4500,  33.7850, -12.5310,  ...,   4.0000,   4.0000,   4.0000],\n",
      "        [ 33.4300,  33.0360, -15.5880,  ...,   0.9781,   4.0000,   4.0000],\n",
      "        ...,\n",
      "        [ 92.7000, -12.6220,  10.3300,  ...,   4.0000,   4.0000,   4.0000],\n",
      "        [ 82.3900, -14.8920,  13.1340,  ...,   4.0000,   4.0000,   4.0000],\n",
      "        [ 74.8700, -17.8280,  12.1250,  ...,   4.0000,   4.0000,   4.0000]],\n",
      "       dtype=torch.float64)\n"
     ]
    },
    {
     "name": "stderr",
     "output_type": "stream",
     "text": [
      "3it [00:00, 22509.68it/s]\n"
     ]
    },
    {
     "name": "stdout",
     "output_type": "stream",
     "text": [
      "Protein lengths before: 83 1427\n",
      "Protein lengths after: 83 1427\n",
      "Check for lengths 1427 1427 MHQRHPRARCPPLCVAGILACGFLLGCWGPSHFQQSCLQALEPQAVSSYLSPGAPLKGRPPSPGFQRQRQRQRRAAGGILHLELLVAVGPDVFQAHQEDTERYVLTNLNIGAELLRDPSLGAQFRVHLVKMVILTEPEGAPNITANLTSSLLSVCGWSQTINPEDDTDPGHADLVLYITRFDLELPDGNRQVRGVTQLGGACSPTWSCLITEDTGFDLGVTIAHEIGHSFGLEHDGAPGSGCGPSGHVMASDGAAPRAGLAWSPCSRRQLLSLLSAGRARCVWDPPRPQPGSAGHPPDAQPGLYYSANEQCRVAFGPKAVACTFAREHLDMCQALSCHTDPLDQSSCSRLLVPLLDGTECGVEKWCSKGRCRSLVELTPIAAVHGRWSSWGPRSPCSRSCGGGVVTRRRQCNNPRPAFGGRACVGADLQAEMCNTQACEKTQLEFMSQQCARTDGQPLRSSPGGASFYHWGAAVPHSQGDALCRHMCRAIGESFIMKRGDSFLDGTRCMPSGPREDGTLSLCVSGSCRTFGCDGRMDSQQVWDRCQVCGGDNSTCSPRKGSFTAGRAREYVTFLTVTPNLTSVYIANHRPLFTHLAVRIGGRYVVAGKMSISPNTTYPSLLEDGRVEYRVALTEDRLPRLEEIRIWGPLQEDADIQVYRRYGEEYGNLTRPDITFTYFQPKPRQAWVWAAVRGPCSVSCGAGLRWVNYSCLDQARKELVETVQCQGSQQPPAWPEACVLEPCPPYWAVGDFGPCSASCGGGLRERPVRCVEAQGSLLKTLPPARCRAGAQQPAVALETCNPQPCPARWEVSEPSSCTSAGGAGLALENETCVPGADGLEAPVTEGPGSVDEKLPAPEPCVGMSCPPGWGHLDATSAGEKAPSPWGSIRTGAQAAHVWTPAAGSCSVSCGRGLMELRFLCMDSALRVPVQEELCGLASKPGSRREVCQAVPCPARWQYKLAACSVSCGRGVVRRILYCARAHGEDDGEEILLDTQCQGLPRPEPQEACSLEPCPPRWKVMSLGPCSASCGLGTARRSVACVQLDQGQDVEVDEAACAALVRPEASVPCLIADCTYRWHVGTWMECSVSCGDGIQRRRDTCLGPQAQAPVPADFCQHLPKPVTVRGCWAGPCVGQGTPSLVPHEEAAAPGRTTATPAGASLEWSQARGLLFSPAPQPRRLLPGPQENSVQSSACGRQHLEPTGTIDMRGPGQADCAVAIGRPLGEVVTLRVLESSLNCSAGDMLLLWGRLTWRKMCRKLLDMTFSSKTNTLVVRQRCGRPGGGVLLRYGSQLAPETFYRECDMQLFGPWGEIVSPSLSPATSNAGGCRLFINVAPHARIAIHALATNMGAGTEGANASYILIRDTHSLRTTAFHGQQVLYWESESSQAEMEFSEGFLKAQASLRGQYWTLQSWVPEMQDPQSWKGKEGT\n",
      "self.angles 3 torch.Size([1427, 11])\n",
      "use_sorted_batching False\n",
      "3 3 3\n"
     ]
    },
    {
     "name": "stderr",
     "output_type": "stream",
     "text": [
      "Preproc angles: 100%|█████████████████████████████████████████████████████████████████████████████████████████████| 3/3 [00:00<00:00, 1301.77it/s]"
     ]
    },
    {
     "name": "stdout",
     "output_type": "stream",
     "text": [
      "self.angles 3 (1, 85, 7)\n",
      "self.plddts 3 (1, 83)\n",
      "[[41.65 32.35 43.66 47.97 44.9  50.34 57.13 68.99 79.78 83.34 86.19 87.51\n",
      "  89.38 90.54 91.42 91.3  91.31 92.87 92.94 93.24 91.71 92.34 90.03 84.73\n",
      "  87.25 90.21 89.4  89.59 92.2  93.02 91.49 90.18 91.76 92.25 90.6  89.13\n",
      "  89.74 89.26 85.56 85.31 84.68 83.73 73.59 65.95 65.08 66.73 65.57 67.28\n",
      "  72.97 81.53 83.68 85.91 86.69 88.29 88.94 90.3  91.42 91.53 91.45 91.09\n",
      "  90.61 86.98 80.26 79.13 87.21 90.68 89.9  90.35 91.6  90.53 89.84 88.99\n",
      "  90.01 86.98 83.83 82.92 81.1  79.09 71.09 55.14 46.52 39.56 39.92]]\n",
      "\n"
     ]
    },
    {
     "name": "stderr",
     "output_type": "stream",
     "text": [
      "\n"
     ]
    }
   ],
   "source": [
    "dataset = ProteinDataset(\n",
    "    protein_data_path=protein_data_path, \n",
    "    saved_dataset_path=saved_dataset_path,\n",
    "    use_foldseek_sequences=use_foldseek_sequences,\n",
    "    # batch_limit=5000, \n",
    "    # use_sorted_batching=True,\n",
    "    # extract_foldseek_in_tokenizer=False,\n",
    "    is_experimental_structure=is_experimental_structure,\n",
    ")"
   ]
  },
  {
   "cell_type": "markdown",
   "id": "43acbaed",
   "metadata": {},
   "source": [
    "### Load the model\n",
    "\n",
    "Load the pre-trained model from Huggingface [MULAN-small](https://huggingface.co/DFrolova/MULAN-small)."
   ]
  },
  {
   "cell_type": "code",
   "execution_count": 4,
   "id": "ca20c81f",
   "metadata": {
    "scrolled": true
   },
   "outputs": [
    {
     "data": {
      "text/plain": [
       "StructEsmForMaskedLM(\n",
       "  (esm): StructEsmModel(\n",
       "    (embeddings): StructEsmEmbeddings(\n",
       "      (word_embeddings): Embedding(33, 320, padding_idx=1)\n",
       "      (dropout): Dropout(p=0.0, inplace=False)\n",
       "      (position_embeddings): Embedding(1026, 320, padding_idx=1)\n",
       "      (struct_embeddings): StructEmbeddings(\n",
       "        (MLP): Linear(in_features=7, out_features=320, bias=True)\n",
       "        (encoder): EsmEncoder(\n",
       "          (layer): ModuleList(\n",
       "            (0): EsmLayer(\n",
       "              (attention): EsmAttention(\n",
       "                (self): EsmSelfAttention(\n",
       "                  (query): Linear(in_features=320, out_features=320, bias=True)\n",
       "                  (key): Linear(in_features=320, out_features=320, bias=True)\n",
       "                  (value): Linear(in_features=320, out_features=320, bias=True)\n",
       "                  (dropout): Dropout(p=0.0, inplace=False)\n",
       "                )\n",
       "                (output): EsmSelfOutput(\n",
       "                  (dense): Linear(in_features=320, out_features=320, bias=True)\n",
       "                  (dropout): Dropout(p=0.0, inplace=False)\n",
       "                )\n",
       "                (LayerNorm): LayerNorm((320,), eps=1e-05, elementwise_affine=True)\n",
       "              )\n",
       "              (intermediate): EsmIntermediate(\n",
       "                (dense): Linear(in_features=320, out_features=1280, bias=True)\n",
       "              )\n",
       "              (output): EsmOutput(\n",
       "                (dense): Linear(in_features=1280, out_features=320, bias=True)\n",
       "                (dropout): Dropout(p=0.0, inplace=False)\n",
       "              )\n",
       "              (LayerNorm): LayerNorm((320,), eps=1e-05, elementwise_affine=True)\n",
       "            )\n",
       "          )\n",
       "          (emb_layer_norm_after): LayerNorm((320,), eps=1e-05, elementwise_affine=True)\n",
       "        )\n",
       "      )\n",
       "    )\n",
       "    (encoder): EsmEncoder(\n",
       "      (layer): ModuleList(\n",
       "        (0-5): 6 x EsmLayer(\n",
       "          (attention): EsmAttention(\n",
       "            (self): EsmSelfAttention(\n",
       "              (query): Linear(in_features=320, out_features=320, bias=True)\n",
       "              (key): Linear(in_features=320, out_features=320, bias=True)\n",
       "              (value): Linear(in_features=320, out_features=320, bias=True)\n",
       "              (dropout): Dropout(p=0.0, inplace=False)\n",
       "              (rotary_embeddings): RotaryEmbedding()\n",
       "            )\n",
       "            (output): EsmSelfOutput(\n",
       "              (dense): Linear(in_features=320, out_features=320, bias=True)\n",
       "              (dropout): Dropout(p=0.0, inplace=False)\n",
       "            )\n",
       "            (LayerNorm): LayerNorm((320,), eps=1e-05, elementwise_affine=True)\n",
       "          )\n",
       "          (intermediate): EsmIntermediate(\n",
       "            (dense): Linear(in_features=320, out_features=1280, bias=True)\n",
       "          )\n",
       "          (output): EsmOutput(\n",
       "            (dense): Linear(in_features=1280, out_features=320, bias=True)\n",
       "            (dropout): Dropout(p=0.0, inplace=False)\n",
       "          )\n",
       "          (LayerNorm): LayerNorm((320,), eps=1e-05, elementwise_affine=True)\n",
       "        )\n",
       "      )\n",
       "      (emb_layer_norm_after): LayerNorm((320,), eps=1e-05, elementwise_affine=True)\n",
       "    )\n",
       "    (pooler): None\n",
       "    (contact_head): EsmContactPredictionHead(\n",
       "      (regression): Linear(in_features=120, out_features=1, bias=True)\n",
       "      (activation): Sigmoid()\n",
       "    )\n",
       "  )\n",
       "  (lm_head): EsmLMHead(\n",
       "    (dense): Linear(in_features=320, out_features=320, bias=True)\n",
       "    (layer_norm): LayerNorm((320,), eps=1e-05, elementwise_affine=True)\n",
       "    (decoder): Linear(in_features=320, out_features=33, bias=False)\n",
       "  )\n",
       ")"
      ]
     },
     "execution_count": 4,
     "metadata": {},
     "output_type": "execute_result"
    }
   ],
   "source": [
    "model = StructEsmForMaskedLM.from_pretrained(\n",
    "    'DFrolova/MULAN-small',\n",
    "    device_map=\"auto\",\n",
    ")\n",
    "device = 'cuda:0' if torch.cuda.is_available() else 'cpu'\n",
    "model.to(device)"
   ]
  },
  {
   "cell_type": "markdown",
   "id": "ed1b666c",
   "metadata": {},
   "source": [
    "### Prepare the dataloader"
   ]
  },
  {
   "cell_type": "code",
   "execution_count": 5,
   "id": "9d50b6b0",
   "metadata": {},
   "outputs": [],
   "source": [
    "esm_tokenizer = auto_detect_base_tokenizer(model.config, use_foldseek_sequences)\n",
    "\n",
    "# Initialize dataloader\n",
    "def data_collator(x): \n",
    "    if use_foldseek_sequences:\n",
    "        one_letter_aas = esm_tokenizer.all_tokens[5:]\n",
    "    else: \n",
    "        one_letter_aas = dataset.tokenizer.one_letter_aas\n",
    "\n",
    "    return data_collate_fn_dynamic(x, \n",
    "        esm_tokenizer=esm_tokenizer,\n",
    "        nan_value=np.deg2rad(dataset.tokenizer.nan_fill_value),\n",
    "        mask_inputs=False,\n",
    "        all_amino_acids=one_letter_aas,\n",
    "        use_foldseek_sequences=use_foldseek_sequences)\n",
    "\n",
    "dataloader = DataLoader(dataset, batch_size=1, shuffle=False, collate_fn=data_collator)"
   ]
  },
  {
   "cell_type": "markdown",
   "id": "d3e2cdcf",
   "metadata": {},
   "source": [
    "## Run inference\n",
    "\n",
    "Run inference to extract residue-level embeddings from the last layer of MULAN. \n",
    "Each batch contains one protein sequence."
   ]
  },
  {
   "cell_type": "code",
   "execution_count": 6,
   "id": "b91434ce",
   "metadata": {},
   "outputs": [
    {
     "name": "stdout",
     "output_type": "stream",
     "text": [
      "['AF-P86500-F1-model_v4'] torch.Size([83, 320]) torch.Size([320])\n",
      "['AF-Q80WM7-F1-model_v4'] torch.Size([277, 320]) torch.Size([320])\n",
      "['AF-Q76LX8-F1-model_v4'] torch.Size([1427, 320]) torch.Size([320])\n"
     ]
    }
   ],
   "source": [
    "with torch.no_grad():\n",
    "    for i, (batch, batch_names) in enumerate(zip(dataloader, dataset.protein_names)):\n",
    "        struct_inputs = [struct_input.to(device) for struct_input in batch['struct_inputs']]\n",
    "        # extract embeddings for each batch (1 sequence per batch)\n",
    "        embeddings = model(\n",
    "            input_ids=batch['input_ids'].to(device),\n",
    "            attention_mask=batch['attention_mask'].to(device),\n",
    "            struct_inputs=struct_inputs,\n",
    "            output_hidden_states=True\n",
    "        )['hidden_states'][-1]\n",
    "        embeddings = embeddings[0][1:-1] # residue-level embeddings for the case of 1 protein per batch\n",
    "        \n",
    "        # If you want to get protein-level embeddings, you shoud perform average pooling:\n",
    "        protein_embedding = embeddings.mean(dim=0)\n",
    "        print(batch_names, embeddings.shape, protein_embedding.shape)"
   ]
  },
  {
   "cell_type": "code",
   "execution_count": null,
   "id": "67cbd539",
   "metadata": {},
   "outputs": [],
   "source": []
  }
 ],
 "metadata": {
  "kernelspec": {
   "display_name": "Python 3 (ipykernel)",
   "language": "python",
   "name": "python3"
  },
  "language_info": {
   "codemirror_mode": {
    "name": "ipython",
    "version": 3
   },
   "file_extension": ".py",
   "mimetype": "text/x-python",
   "name": "python",
   "nbconvert_exporter": "python",
   "pygments_lexer": "ipython3",
   "version": "3.10.6"
  }
 },
 "nbformat": 4,
 "nbformat_minor": 5
}
